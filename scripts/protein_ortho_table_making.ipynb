{
 "cells": [
  {
   "cell_type": "code",
   "execution_count": 1,
   "id": "3088a949",
   "metadata": {},
   "outputs": [],
   "source": [
    "import pandas as pd"
   ]
  },
  {
   "cell_type": "code",
   "execution_count": 3,
   "id": "a1e6e122",
   "metadata": {},
   "outputs": [],
   "source": [
    "df = pd.read_csv('mountain_ortho_14.tsv', sep='\\t')"
   ]
  },
  {
   "cell_type": "code",
   "execution_count": 4,
   "id": "18951dfb",
   "metadata": {},
   "outputs": [
    {
     "data": {
      "text/plain": [
       "(77689, 17)"
      ]
     },
     "execution_count": 4,
     "metadata": {},
     "output_type": "execute_result"
    }
   ],
   "source": [
    "df.columns\n",
    "df.shape"
   ]
  },
  {
   "cell_type": "code",
   "execution_count": 5,
   "id": "14a221e8",
   "metadata": {},
   "outputs": [],
   "source": [
    "orthogroups_all = df[df['# Species'] == df['Genes']]"
   ]
  },
  {
   "cell_type": "code",
   "execution_count": 6,
   "id": "6af10ad8",
   "metadata": {},
   "outputs": [
    {
     "data": {
      "text/plain": [
       "(37668, 17)"
      ]
     },
     "execution_count": 6,
     "metadata": {},
     "output_type": "execute_result"
    }
   ],
   "source": [
    "orthogroups_all.shape"
   ]
  },
  {
   "cell_type": "code",
   "execution_count": 7,
   "id": "ee3da740",
   "metadata": {},
   "outputs": [],
   "source": [
    "orthogroups_all.to_csv('orthogroups_all.tsv', sep='\\t')"
   ]
  },
  {
   "cell_type": "code",
   "execution_count": 8,
   "id": "81137fa5",
   "metadata": {},
   "outputs": [
    {
     "data": {
      "text/plain": [
       "(251, 17)"
      ]
     },
     "execution_count": 8,
     "metadata": {},
     "output_type": "execute_result"
    }
   ],
   "source": [
    "orthogroups_14 = orthogroups_all[orthogroups_all['# Species'] == 14]\n",
    "orthogroups_14.shape"
   ]
  },
  {
   "cell_type": "code",
   "execution_count": 9,
   "id": "781549e5",
   "metadata": {},
   "outputs": [],
   "source": [
    "orthogroups_14.to_csv('orthogroups_14.tsv', sep='\\t')"
   ]
  },
  {
   "cell_type": "code",
   "execution_count": null,
   "id": "aceaf333",
   "metadata": {},
   "outputs": [],
   "source": []
  }
 ],
 "metadata": {
  "kernelspec": {
   "display_name": "Python 3",
   "language": "python",
   "name": "python3"
  },
  "language_info": {
   "codemirror_mode": {
    "name": "ipython",
    "version": 3
   },
   "file_extension": ".py",
   "mimetype": "text/x-python",
   "name": "python",
   "nbconvert_exporter": "python",
   "pygments_lexer": "ipython3",
   "version": "3.8.3"
  }
 },
 "nbformat": 4,
 "nbformat_minor": 5
}
